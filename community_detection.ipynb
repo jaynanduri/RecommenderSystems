{
 "cells": [
  {
   "cell_type": "code",
   "execution_count": 40,
   "metadata": {
    "collapsed": true,
    "ExecuteTime": {
     "end_time": "2024-04-23T00:59:58.700466Z",
     "start_time": "2024-04-23T00:59:58.695937Z"
    }
   },
   "outputs": [],
   "source": [
    "from queue import Queue\n",
    "import numpy as np"
   ]
  },
  {
   "cell_type": "markdown",
   "source": [
    "# Reading communities and edge data"
   ],
   "metadata": {
    "collapsed": false
   }
  },
  {
   "cell_type": "code",
   "execution_count": 41,
   "outputs": [],
   "source": [
    "community_membership = np.loadtxt('community_membership_2K.csv', delimiter=',', dtype=np.int32)\n",
    "edges = np.loadtxt('edges_sampled_2K.csv', delimiter=',', dtype=np.int32)"
   ],
   "metadata": {
    "collapsed": false,
    "ExecuteTime": {
     "end_time": "2024-04-23T00:59:59.091218Z",
     "start_time": "2024-04-23T00:59:59.085446Z"
    }
   }
  },
  {
   "cell_type": "code",
   "execution_count": 42,
   "outputs": [
    {
     "data": {
      "text/plain": "array([[27228, 30121],\n       [27228, 29697],\n       [27228, 28142],\n       ...,\n       [26661, 30121],\n       [26661, 27193],\n       [26661, 33400]], dtype=int32)"
     },
     "execution_count": 42,
     "metadata": {},
     "output_type": "execute_result"
    }
   ],
   "source": [
    "edges"
   ],
   "metadata": {
    "collapsed": false,
    "ExecuteTime": {
     "end_time": "2024-04-23T00:59:59.282026Z",
     "start_time": "2024-04-23T00:59:59.274365Z"
    }
   }
  },
  {
   "cell_type": "code",
   "execution_count": 43,
   "outputs": [],
   "source": [
    "unique_edges = np.unique(edges)\n",
    "\n",
    "num_vertices = unique_edges.shape[0]\n",
    "\n",
    "edge_to_id = dict(zip(unique_edges, range(num_vertices + 1)))\n",
    "\n",
    "edges = np.vectorize(edge_to_id.get)(edges)"
   ],
   "metadata": {
    "collapsed": false,
    "ExecuteTime": {
     "end_time": "2024-04-23T00:59:59.516811Z",
     "start_time": "2024-04-23T00:59:59.469648Z"
    }
   }
  },
  {
   "cell_type": "code",
   "execution_count": 44,
   "outputs": [
    {
     "data": {
      "text/plain": "array([[111, 134],\n       [111, 125],\n       [111, 116],\n       ...,\n       [ 92, 134],\n       [ 92, 109],\n       [ 92, 159]])"
     },
     "execution_count": 44,
     "metadata": {},
     "output_type": "execute_result"
    }
   ],
   "source": [
    "edges"
   ],
   "metadata": {
    "collapsed": false,
    "ExecuteTime": {
     "end_time": "2024-04-23T00:59:59.624179Z",
     "start_time": "2024-04-23T00:59:59.616928Z"
    }
   }
  },
  {
   "cell_type": "code",
   "execution_count": 45,
   "outputs": [],
   "source": [
    "def dfs(run, vertex, visited, neighbors):\n",
    "        # Mark the current vertex as visited\n",
    "        visited[vertex] = True\n",
    "\n",
    "        # Store the vertex to list\n",
    "        run.append(vertex)\n",
    "\n",
    "        # Repeat for all vertices adjacent\n",
    "        # to this vertex v\n",
    "        for i in neighbors[vertex]:\n",
    "            if i is None: continue\n",
    "            if not visited[i]:\n",
    "                # Update the list\n",
    "                run = dfs(run, i, visited, neighbors)\n",
    "        return run\n",
    "\n",
    "def get_communities(edges):\n",
    "    unique_edges = np.unique(edges)\n",
    "    num_vertices = unique_edges.shape[0]\n",
    "    neighbors = np.empty((num_vertices,), dtype=object)\n",
    "    for i, v in enumerate(neighbors): neighbors[i] = [v]\n",
    "    for edge in edges:\n",
    "        n1 = edge[0]\n",
    "        n2 = edge[1]\n",
    "        neighbors[n1].append(n2)\n",
    "        neighbors[n2].append(n1)\n",
    "\n",
    "    visited = []\n",
    "    connected_comps = []\n",
    "    for i in range(num_vertices):\n",
    "        visited.append(False)\n",
    "    for v in range(num_vertices):\n",
    "        if not visited[v]:\n",
    "            temp = []\n",
    "            connected_comps.append(dfs(temp, v, visited, neighbors))\n",
    "    return connected_comps"
   ],
   "metadata": {
    "collapsed": false,
    "ExecuteTime": {
     "end_time": "2024-04-23T00:59:59.824307Z",
     "start_time": "2024-04-23T00:59:59.818572Z"
    }
   }
  },
  {
   "cell_type": "code",
   "execution_count": 46,
   "outputs": [],
   "source": [
    "def edge_betweenness(edges: np.ndarray) -> dict:\n",
    "\n",
    "    unique_edges = np.unique(edges)\n",
    "\n",
    "    num_vertices = unique_edges.shape[0]\n",
    "\n",
    "    neighbors = np.empty((num_vertices,), dtype=object)\n",
    "    for i, v in enumerate(neighbors):\n",
    "        neighbors[i] = [v]\n",
    "    for edge in edges:\n",
    "        n1 = edge[0]\n",
    "        n2 = edge[1]\n",
    "        neighbors[n1].append(n2)\n",
    "        neighbors[n2].append(n1)\n",
    "    tran = edges.T\n",
    "    new_edges = list(zip(tran[0], tran[1]))\n",
    "    edge_mapping = dict.fromkeys(range(num_vertices), 0.0)\n",
    "    edge_mapping.update(dict.fromkeys(new_edges, 0.0))\n",
    "    for s in range(num_vertices):\n",
    "        stack = []\n",
    "        P = np.empty((num_vertices,), dtype=object)\n",
    "        for i, v in enumerate(P): P[i] = [v]\n",
    "        sigma = np.zeros(num_vertices)\n",
    "        sigma[s] = 1\n",
    "        d = np.full(num_vertices, -1)\n",
    "        d[s] = 0\n",
    "        queue = Queue()\n",
    "        queue.put(s)\n",
    "        while not queue.empty():\n",
    "            v = queue.get()\n",
    "            stack.append(v)\n",
    "            for w in neighbors[v]:\n",
    "                if w is None: \n",
    "                    continue\n",
    "                if d[w] < 0:\n",
    "                    queue.put(w)\n",
    "                    d[w] = d[v] + 1\n",
    "                if d[w] == d[v] + 1:\n",
    "                    sigma[w] += sigma[v]\n",
    "                    P[w].append(v)\n",
    "        delta = np.zeros(num_vertices)\n",
    "        while len(stack) > 0:\n",
    "            w = stack.pop()\n",
    "            for v in P[w]:\n",
    "                if v is None: continue\n",
    "                update = sigma[v] / sigma[w] * (1 + delta[w])\n",
    "                if (v, w) not in edge_mapping:\n",
    "                    edge_mapping[(w, v)] += update\n",
    "                else:\n",
    "                    edge_mapping[(v, w)] += update\n",
    "                delta[v] += update\n",
    "                if w != s: edge_mapping[w] += delta[w]\n",
    "    for vertex in range(num_vertices): \n",
    "        del edge_mapping[vertex]  \n",
    "    for v in edge_mapping: \n",
    "        edge_mapping[v] *= 0.5  \n",
    "    \n",
    "    return edge_mapping"
   ],
   "metadata": {
    "collapsed": false,
    "ExecuteTime": {
     "end_time": "2024-04-23T00:59:59.990015Z",
     "start_time": "2024-04-23T00:59:59.978529Z"
    }
   }
  },
  {
   "cell_type": "code",
   "execution_count": 47,
   "outputs": [
    {
     "name": "stdout",
     "output_type": "stream",
     "text": [
      "0 edges removed, 5 communities\n",
      "Removing another edge, total 1\n",
      "Removing another edge, total 2\n",
      "2 edges removed, 6 communities\n",
      "Removing another edge, total 3\n",
      "3 edges removed, 7 communities\n",
      "Removing another edge, total 4\n",
      "4 edges removed, 8 communities\n"
     ]
    }
   ],
   "source": [
    "print(f'{0} edges removed, {len(get_communities(edges))} communities')\n",
    "\n",
    "num_communities = len(get_communities(edges))\n",
    "new_communities = num_communities\n",
    "num_removed = 0\n",
    "for i in range(3):\n",
    "    while new_communities==num_communities:\n",
    "        betweenness = edge_betweenness(edges)\n",
    "        max_edge = max(betweenness, key=betweenness.get)\n",
    "        # Remove the max edge\n",
    "        edges = np.delete(edges, np.where((edges[:,0]==max_edge[0]) & (edges[:,1]==max_edge[1]))[0],axis=0)\n",
    "        new_communities = len(get_communities(edges))\n",
    "        num_removed += 1\n",
    "        print(f'Removing another edge, total {num_removed}')\n",
    "    print(f'{num_removed} edges removed, {new_communities} communities')\n",
    "    num_communities = new_communities"
   ],
   "metadata": {
    "collapsed": false,
    "ExecuteTime": {
     "end_time": "2024-04-23T01:00:06.443159Z",
     "start_time": "2024-04-23T01:00:00.146228Z"
    }
   }
  }
 ],
 "metadata": {
  "kernelspec": {
   "display_name": "Python 3",
   "language": "python",
   "name": "python3"
  },
  "language_info": {
   "codemirror_mode": {
    "name": "ipython",
    "version": 2
   },
   "file_extension": ".py",
   "mimetype": "text/x-python",
   "name": "python",
   "nbconvert_exporter": "python",
   "pygments_lexer": "ipython2",
   "version": "2.7.6"
  }
 },
 "nbformat": 4,
 "nbformat_minor": 0
}
